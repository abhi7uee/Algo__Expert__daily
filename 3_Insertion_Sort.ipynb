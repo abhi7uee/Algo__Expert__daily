{
 "cells": [
  {
   "cell_type": "markdown",
   "id": "9c8b3b49",
   "metadata": {},
   "source": [
    "#  Insertion sort"
   ]
  },
  {
   "cell_type": "markdown",
   "id": "a6bf09a8",
   "metadata": {},
   "source": [
    "Hint: Divide the array into 2 lists (imaginery) i.e., sorted and unsorted. Initially, the leftmost element of the array is present in the sorted array. \n",
    "\n",
    "\n",
    "Iterate through the unsorted array, inserting all of its elements into the sorted subarray in the correct position by swapping them into place. Eventually, the entire array will be sorted."
   ]
  },
  {
   "cell_type": "markdown",
   "id": "959a5ba5",
   "metadata": {},
   "source": [
    "Data Structure used: array (list)"
   ]
  },
  {
   "cell_type": "code",
   "execution_count": 2,
   "id": "711a25dc",
   "metadata": {},
   "outputs": [],
   "source": [
    "#Best: O(n) time | O(1) space (when the array is laready sorted)\n",
    "#Average: O(n^2) time | O(1) space\n",
    "#Worst: O(n^2) time | O(1) space"
   ]
  },
  {
   "cell_type": "code",
   "execution_count": 1,
   "id": "d28e565b",
   "metadata": {},
   "outputs": [
    {
     "name": "stdout",
     "output_type": "stream",
     "text": [
      "[2, 3, 5, 5, 6, 8, 9]\n"
     ]
    }
   ],
   "source": [
    "'''\n",
    "Since the entire algorithm is taking place within the input array, SC= O(1)\n",
    "However, TC is not so good.\n",
    "TC= O(n^2) where, n = length of input array (for worst case or average case scenario).\n",
    "However, for best case scenario, when the array is already sorted, TC= O(n) since there will \n",
    "be only 'n' comparisons.\n",
    "\n",
    "Also, TC= O(n) for the best case scenario, i.e., when the array is already sorted.\n",
    "'''\n",
    "\n",
    "#import pdb\n",
    "\n",
    "def insertionSort(array):\n",
    "    for K in range(1, len(array)):\n",
    "        #pdb.set_trace()\n",
    "        temp =array[K]\n",
    "        pointer = K-1\n",
    "        while (temp < array[pointer]) & (pointer>=0):\n",
    "            array[pointer+1] = array[pointer]\n",
    "            array[pointer] = temp\n",
    "            pointer -= 1\n",
    "    return array\n",
    "\n",
    "array = [8,5,2,9,5,6,3]\n",
    "output_array = insertionSort(array)\n",
    "print(output_array)"
   ]
  },
  {
   "cell_type": "code",
   "execution_count": null,
   "id": "d600ccf1",
   "metadata": {},
   "outputs": [],
   "source": []
  }
 ],
 "metadata": {
  "kernelspec": {
   "display_name": "Python 3 (ipykernel)",
   "language": "python",
   "name": "python3"
  },
  "language_info": {
   "codemirror_mode": {
    "name": "ipython",
    "version": 3
   },
   "file_extension": ".py",
   "mimetype": "text/x-python",
   "name": "python",
   "nbconvert_exporter": "python",
   "pygments_lexer": "ipython3",
   "version": "3.9.7"
  }
 },
 "nbformat": 4,
 "nbformat_minor": 5
}
